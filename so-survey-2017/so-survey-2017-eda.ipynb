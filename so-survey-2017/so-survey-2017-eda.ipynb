{
 "cells": [
  {
   "cell_type": "code",
   "execution_count": 1,
   "metadata": {},
   "outputs": [],
   "source": [
    "import pandas as pd\n",
    "import numpy as np\n",
    "\n",
    "import matplotlib.pyplot as plt\n",
    "import seaborn as sns\n",
    "\n",
    "pal = sns.color_palette()\n",
    "%matplotlib inline"
   ]
  },
  {
   "cell_type": "code",
   "execution_count": 2,
   "metadata": {},
   "outputs": [],
   "source": [
    "data = pd.read_csv(\"data/survey_results_public.csv\")"
   ]
  },
  {
   "cell_type": "markdown",
   "metadata": {},
   "source": [
    "## 스택오버플로우 사용자들의 개발 업무 언어"
   ]
  },
  {
   "cell_type": "code",
   "execution_count": 3,
   "metadata": {},
   "outputs": [
    {
     "data": {
      "text/plain": [
       "0                            [Swift]\n",
       "1    [JavaScript, Python, Ruby, SQL]\n",
       "2                [Java, PHP, Python]\n",
       "3           [Matlab, Python, R, SQL]\n",
       "4                              [nan]\n",
       "Name: HaveWorkedLanguage, dtype: object"
      ]
     },
     "execution_count": 3,
     "metadata": {},
     "output_type": "execute_result"
    }
   ],
   "source": [
    "data['HaveWorkedLanguage'] = data['HaveWorkedLanguage'].apply(lambda x: str(x).split('; '))\n",
    "data['HaveWorkedLanguage'].head()"
   ]
  },
  {
   "cell_type": "code",
   "execution_count": 4,
   "metadata": {},
   "outputs": [
    {
     "name": "stdout",
     "output_type": "stream",
     "text": [
      "CPU times: user 22.4 s, sys: 534 ms, total: 22.9 s\n",
      "Wall time: 23.7 s\n"
     ]
    }
   ],
   "source": [
    "# axis는 행렬에서 0은 행을 1은 열을 의미하는 것으로 이해하면 편하다.\n",
    "# 여기에서는 axis를 1로 주었기 때문에 열을 기준으로 판다스의 series 형태로 구성한다.\n",
    "%time s = data.apply(lambda x: pd.Series(x['HaveWorkedLanguage']),axis=1)"
   ]
  },
  {
   "cell_type": "code",
   "execution_count": 5,
   "metadata": {},
   "outputs": [
    {
     "data": {
      "text/html": [
       "<div>\n",
       "<style scoped>\n",
       "    .dataframe tbody tr th:only-of-type {\n",
       "        vertical-align: middle;\n",
       "    }\n",
       "\n",
       "    .dataframe tbody tr th {\n",
       "        vertical-align: top;\n",
       "    }\n",
       "\n",
       "    .dataframe thead th {\n",
       "        text-align: right;\n",
       "    }\n",
       "</style>\n",
       "<table border=\"1\" class=\"dataframe\">\n",
       "  <thead>\n",
       "    <tr style=\"text-align: right;\">\n",
       "      <th></th>\n",
       "      <th>0</th>\n",
       "      <th>1</th>\n",
       "      <th>2</th>\n",
       "      <th>3</th>\n",
       "      <th>4</th>\n",
       "      <th>5</th>\n",
       "      <th>6</th>\n",
       "      <th>7</th>\n",
       "      <th>8</th>\n",
       "      <th>9</th>\n",
       "      <th>...</th>\n",
       "      <th>25</th>\n",
       "      <th>26</th>\n",
       "      <th>27</th>\n",
       "      <th>28</th>\n",
       "      <th>29</th>\n",
       "      <th>30</th>\n",
       "      <th>31</th>\n",
       "      <th>32</th>\n",
       "      <th>33</th>\n",
       "      <th>34</th>\n",
       "    </tr>\n",
       "  </thead>\n",
       "  <tbody>\n",
       "    <tr>\n",
       "      <th>0</th>\n",
       "      <td>Swift</td>\n",
       "      <td>NaN</td>\n",
       "      <td>NaN</td>\n",
       "      <td>NaN</td>\n",
       "      <td>NaN</td>\n",
       "      <td>NaN</td>\n",
       "      <td>NaN</td>\n",
       "      <td>NaN</td>\n",
       "      <td>NaN</td>\n",
       "      <td>NaN</td>\n",
       "      <td>...</td>\n",
       "      <td>NaN</td>\n",
       "      <td>NaN</td>\n",
       "      <td>NaN</td>\n",
       "      <td>NaN</td>\n",
       "      <td>NaN</td>\n",
       "      <td>NaN</td>\n",
       "      <td>NaN</td>\n",
       "      <td>NaN</td>\n",
       "      <td>NaN</td>\n",
       "      <td>NaN</td>\n",
       "    </tr>\n",
       "    <tr>\n",
       "      <th>1</th>\n",
       "      <td>JavaScript</td>\n",
       "      <td>Python</td>\n",
       "      <td>Ruby</td>\n",
       "      <td>SQL</td>\n",
       "      <td>NaN</td>\n",
       "      <td>NaN</td>\n",
       "      <td>NaN</td>\n",
       "      <td>NaN</td>\n",
       "      <td>NaN</td>\n",
       "      <td>NaN</td>\n",
       "      <td>...</td>\n",
       "      <td>NaN</td>\n",
       "      <td>NaN</td>\n",
       "      <td>NaN</td>\n",
       "      <td>NaN</td>\n",
       "      <td>NaN</td>\n",
       "      <td>NaN</td>\n",
       "      <td>NaN</td>\n",
       "      <td>NaN</td>\n",
       "      <td>NaN</td>\n",
       "      <td>NaN</td>\n",
       "    </tr>\n",
       "    <tr>\n",
       "      <th>2</th>\n",
       "      <td>Java</td>\n",
       "      <td>PHP</td>\n",
       "      <td>Python</td>\n",
       "      <td>NaN</td>\n",
       "      <td>NaN</td>\n",
       "      <td>NaN</td>\n",
       "      <td>NaN</td>\n",
       "      <td>NaN</td>\n",
       "      <td>NaN</td>\n",
       "      <td>NaN</td>\n",
       "      <td>...</td>\n",
       "      <td>NaN</td>\n",
       "      <td>NaN</td>\n",
       "      <td>NaN</td>\n",
       "      <td>NaN</td>\n",
       "      <td>NaN</td>\n",
       "      <td>NaN</td>\n",
       "      <td>NaN</td>\n",
       "      <td>NaN</td>\n",
       "      <td>NaN</td>\n",
       "      <td>NaN</td>\n",
       "    </tr>\n",
       "    <tr>\n",
       "      <th>3</th>\n",
       "      <td>Matlab</td>\n",
       "      <td>Python</td>\n",
       "      <td>R</td>\n",
       "      <td>SQL</td>\n",
       "      <td>NaN</td>\n",
       "      <td>NaN</td>\n",
       "      <td>NaN</td>\n",
       "      <td>NaN</td>\n",
       "      <td>NaN</td>\n",
       "      <td>NaN</td>\n",
       "      <td>...</td>\n",
       "      <td>NaN</td>\n",
       "      <td>NaN</td>\n",
       "      <td>NaN</td>\n",
       "      <td>NaN</td>\n",
       "      <td>NaN</td>\n",
       "      <td>NaN</td>\n",
       "      <td>NaN</td>\n",
       "      <td>NaN</td>\n",
       "      <td>NaN</td>\n",
       "      <td>NaN</td>\n",
       "    </tr>\n",
       "    <tr>\n",
       "      <th>4</th>\n",
       "      <td>nan</td>\n",
       "      <td>NaN</td>\n",
       "      <td>NaN</td>\n",
       "      <td>NaN</td>\n",
       "      <td>NaN</td>\n",
       "      <td>NaN</td>\n",
       "      <td>NaN</td>\n",
       "      <td>NaN</td>\n",
       "      <td>NaN</td>\n",
       "      <td>NaN</td>\n",
       "      <td>...</td>\n",
       "      <td>NaN</td>\n",
       "      <td>NaN</td>\n",
       "      <td>NaN</td>\n",
       "      <td>NaN</td>\n",
       "      <td>NaN</td>\n",
       "      <td>NaN</td>\n",
       "      <td>NaN</td>\n",
       "      <td>NaN</td>\n",
       "      <td>NaN</td>\n",
       "      <td>NaN</td>\n",
       "    </tr>\n",
       "  </tbody>\n",
       "</table>\n",
       "<p>5 rows × 35 columns</p>\n",
       "</div>"
      ],
      "text/plain": [
       "           0       1       2    3    4    5    6    7    8    9  ...    25  \\\n",
       "0       Swift     NaN     NaN  NaN  NaN  NaN  NaN  NaN  NaN  NaN ...   NaN   \n",
       "1  JavaScript  Python    Ruby  SQL  NaN  NaN  NaN  NaN  NaN  NaN ...   NaN   \n",
       "2        Java     PHP  Python  NaN  NaN  NaN  NaN  NaN  NaN  NaN ...   NaN   \n",
       "3      Matlab  Python       R  SQL  NaN  NaN  NaN  NaN  NaN  NaN ...   NaN   \n",
       "4         nan     NaN     NaN  NaN  NaN  NaN  NaN  NaN  NaN  NaN ...   NaN   \n",
       "\n",
       "    26   27   28   29   30   31   32   33   34  \n",
       "0  NaN  NaN  NaN  NaN  NaN  NaN  NaN  NaN  NaN  \n",
       "1  NaN  NaN  NaN  NaN  NaN  NaN  NaN  NaN  NaN  \n",
       "2  NaN  NaN  NaN  NaN  NaN  NaN  NaN  NaN  NaN  \n",
       "3  NaN  NaN  NaN  NaN  NaN  NaN  NaN  NaN  NaN  \n",
       "4  NaN  NaN  NaN  NaN  NaN  NaN  NaN  NaN  NaN  \n",
       "\n",
       "[5 rows x 35 columns]"
      ]
     },
     "execution_count": 5,
     "metadata": {},
     "output_type": "execute_result"
    }
   ],
   "source": [
    "s.head(5)"
   ]
  },
  {
   "cell_type": "code",
   "execution_count": 6,
   "metadata": {},
   "outputs": [
    {
     "data": {
      "text/plain": [
       "0  0         Swift\n",
       "1  0    JavaScript\n",
       "   1        Python\n",
       "   2          Ruby\n",
       "   3           SQL\n",
       "2  0          Java\n",
       "   1           PHP\n",
       "   2        Python\n",
       "3  0        Matlab\n",
       "   1        Python\n",
       "dtype: object"
      ]
     },
     "execution_count": 6,
     "metadata": {},
     "output_type": "execute_result"
    }
   ],
   "source": [
    "s_stack = s.stack()\n",
    "s_stack[:10]"
   ]
  },
  {
   "cell_type": "code",
   "execution_count": 7,
   "metadata": {},
   "outputs": [
    {
     "data": {
      "text/plain": [
       "0         Swift\n",
       "1    JavaScript\n",
       "1        Python\n",
       "1          Ruby\n",
       "1           SQL\n",
       "2          Java\n",
       "2           PHP\n",
       "2        Python\n",
       "3        Matlab\n",
       "3        Python\n",
       "Name: Languages, dtype: object"
      ]
     },
     "execution_count": 7,
     "metadata": {},
     "output_type": "execute_result"
    }
   ],
   "source": [
    "s_reindex = s_stack.reset_index(level=1, drop=True)\n",
    "s_reindex.name = 'Languages'\n",
    "s_reindex[:10]"
   ]
  },
  {
   "cell_type": "code",
   "execution_count": 8,
   "metadata": {},
   "outputs": [
    {
     "data": {
      "text/plain": [
       "JavaScript        22875\n",
       "SQL               18754\n",
       "Java              14524\n",
       "C#                12476\n",
       "Python            11704\n",
       "PHP               10290\n",
       "C++                8155\n",
       "C                  6974\n",
       "TypeScript         3488\n",
       "Ruby               3324\n",
       "Swift              2368\n",
       "Objective-C        2349\n",
       "VB.NET             2273\n",
       "Assembly           1823\n",
       "R                  1634\n",
       "Perl               1585\n",
       "VBA                1574\n",
       "Matlab             1569\n",
       "Go                 1557\n",
       "Scala              1309\n",
       "Groovy             1193\n",
       "CoffeeScript       1192\n",
       "Visual Basic 6     1071\n",
       "Lua                1039\n",
       "Haskell             649\n",
       "F#                  457\n",
       "Rust                416\n",
       "Clojure             391\n",
       "Elixir              380\n",
       "Smalltalk           327\n",
       "Erlang              281\n",
       "Common Lisp         273\n",
       "Dart                145\n",
       "Julia               138\n",
       "Hack                107\n",
       "Name: Languages, dtype: int64"
      ]
     },
     "execution_count": 8,
     "metadata": {},
     "output_type": "execute_result"
    }
   ],
   "source": [
    "worked_language_count = s_reindex[s_reindex != 'nan'].value_counts()\n",
    "worked_language_count"
   ]
  },
  {
   "cell_type": "code",
   "execution_count": 9,
   "metadata": {},
   "outputs": [
    {
     "data": {
      "text/plain": [
       "<matplotlib.axes._subplots.AxesSubplot at 0x12714b048>"
      ]
     },
     "execution_count": 9,
     "metadata": {},
     "output_type": "execute_result"
    },
    {
     "data": {
      "image/png": "[encoded data removed]",
      "text/plain": [
       "<matplotlib.figure.Figure at 0x12714b358>"
      ]
     },
     "metadata": {},
     "output_type": "display_data"
    }
   ],
   "source": [
    "plt.figure(figsize=(12,6))\n",
    "plt.title('스택오버플로우 사용자들의 개발 업무 언어')\n",
    "sns.barplot(y=worked_language_count.index, x=worked_language_count)"
   ]
  },
  {
   "cell_type": "code",
   "execution_count": 10,
   "metadata": {},
   "outputs": [
    {
     "data": {
      "text/plain": [
       "United States         11455\n",
       "India                  5197\n",
       "United Kingdom         4395\n",
       "Germany                4143\n",
       "Canada                 2233\n",
       "France                 1740\n",
       "Poland                 1290\n",
       "Australia               913\n",
       "Russian Federation      873\n",
       "Spain                   864\n",
       "Netherlands             855\n",
       "Italy                   781\n",
       "Brazil                  777\n",
       "Sweden                  611\n",
       "Switzerland             595\n",
       "Israel                  575\n",
       "Romania                 561\n",
       "Iran                    507\n",
       "Austria                 477\n",
       "Pakistan                454\n",
       "Czech Republic          411\n",
       "Belgium                 404\n",
       "South Africa            380\n",
       "Turkey                  363\n",
       "Ukraine                 356\n",
       "Mexico                  351\n",
       "Ireland                 345\n",
       "Hungary                 332\n",
       "Philippines             328\n",
       "Slovenia                303\n",
       "Denmark                 300\n",
       "Greece                  298\n",
       "Indonesia               289\n",
       "Finland                 287\n",
       "Portugal                271\n",
       "Norway                  259\n",
       "Bulgaria                258\n",
       "Argentina               255\n",
       "New Zealand             252\n",
       "Japan                   248\n",
       "Name: Country, dtype: int64"
      ]
     },
     "execution_count": 10,
     "metadata": {},
     "output_type": "execute_result"
    }
   ],
   "source": [
    "country = data['Country'].value_counts()[:40]\n",
    "country"
   ]
  },
  {
   "cell_type": "code",
   "execution_count": 11,
   "metadata": {},
   "outputs": [
    {
     "data": {
      "text/plain": [
       "Text(0.5,1,'스택오버플로우 설문조사 응답국가')"
      ]
     },
     "execution_count": 11,
     "metadata": {},
     "output_type": "execute_result"
    },
    {
     "data": {
      "image/png": "[encoded data removed]",
      "text/plain": [
       "<matplotlib.figure.Figure at 0x127099c18>"
      ]
     },
     "metadata": {},
     "output_type": "display_data"
    }
   ],
   "source": [
    "plt.subplots(figsize=(12,6))\n",
    "ax=country.plot.bar(width=0.8,color='#f45c42')\n",
    "for p in ax.patches:\n",
    "    ax.annotate(format(p.get_height()), (p.get_x()+0.10, p.get_height()+0.25))\n",
    "\n",
    "plt.xticks(rotation=30, ha='right')\n",
    "plt.xlabel('국가')\n",
    "plt.ylabel('Count')\n",
    "plt.title('스택오버플로우 설문조사 응답국가')"
   ]
  },
  {
   "cell_type": "markdown",
   "metadata": {},
   "source": [
    "## 한국 응답자"
   ]
  },
  {
   "cell_type": "code",
   "execution_count": 12,
   "metadata": {},
   "outputs": [
    {
     "data": {
      "text/plain": [
       "(164, 154)"
      ]
     },
     "execution_count": 12,
     "metadata": {},
     "output_type": "execute_result"
    }
   ],
   "source": [
    "korea = data.loc[data['Country'] == 'South Korea']\n",
    "korea.shape"
   ]
  },
  {
   "cell_type": "code",
   "execution_count": 13,
   "metadata": {},
   "outputs": [
    {
     "data": {
      "text/html": [
       "<div>\n",
       "<style scoped>\n",
       "    .dataframe tbody tr th:only-of-type {\n",
       "        vertical-align: middle;\n",
       "    }\n",
       "\n",
       "    .dataframe tbody tr th {\n",
       "        vertical-align: top;\n",
       "    }\n",
       "\n",
       "    .dataframe thead th {\n",
       "        text-align: right;\n",
       "    }\n",
       "</style>\n",
       "<table border=\"1\" class=\"dataframe\">\n",
       "  <thead>\n",
       "    <tr style=\"text-align: right;\">\n",
       "      <th></th>\n",
       "      <th>Respondent</th>\n",
       "      <th>Professional</th>\n",
       "      <th>ProgramHobby</th>\n",
       "      <th>Country</th>\n",
       "      <th>University</th>\n",
       "      <th>EmploymentStatus</th>\n",
       "      <th>FormalEducation</th>\n",
       "      <th>MajorUndergrad</th>\n",
       "      <th>HomeRemote</th>\n",
       "      <th>CompanySize</th>\n",
       "      <th>...</th>\n",
       "      <th>StackOverflowMakeMoney</th>\n",
       "      <th>Gender</th>\n",
       "      <th>HighestEducationParents</th>\n",
       "      <th>Race</th>\n",
       "      <th>SurveyLong</th>\n",
       "      <th>QuestionsInteresting</th>\n",
       "      <th>QuestionsConfusing</th>\n",
       "      <th>InterestedAnswers</th>\n",
       "      <th>Salary</th>\n",
       "      <th>ExpectedSalary</th>\n",
       "    </tr>\n",
       "  </thead>\n",
       "  <tbody>\n",
       "    <tr>\n",
       "      <th>702</th>\n",
       "      <td>703</td>\n",
       "      <td>Student</td>\n",
       "      <td>Yes, I program as a hobby</td>\n",
       "      <td>South Korea</td>\n",
       "      <td>Yes, full-time</td>\n",
       "      <td>Not employed, but looking for work</td>\n",
       "      <td>Some college/university study without earning ...</td>\n",
       "      <td>Computer science or software engineering</td>\n",
       "      <td>NaN</td>\n",
       "      <td>NaN</td>\n",
       "      <td>...</td>\n",
       "      <td>Disagree</td>\n",
       "      <td>Male</td>\n",
       "      <td>A master's degree</td>\n",
       "      <td>East Asian</td>\n",
       "      <td>Strongly agree</td>\n",
       "      <td>Somewhat agree</td>\n",
       "      <td>Disagree</td>\n",
       "      <td>Agree</td>\n",
       "      <td>NaN</td>\n",
       "      <td>30.52157</td>\n",
       "    </tr>\n",
       "    <tr>\n",
       "      <th>2161</th>\n",
       "      <td>2162</td>\n",
       "      <td>Student</td>\n",
       "      <td>Yes, I program as a hobby</td>\n",
       "      <td>South Korea</td>\n",
       "      <td>No</td>\n",
       "      <td>I prefer not to say</td>\n",
       "      <td>Primary/elementary school</td>\n",
       "      <td>NaN</td>\n",
       "      <td>NaN</td>\n",
       "      <td>NaN</td>\n",
       "      <td>...</td>\n",
       "      <td>NaN</td>\n",
       "      <td>NaN</td>\n",
       "      <td>NaN</td>\n",
       "      <td>NaN</td>\n",
       "      <td>NaN</td>\n",
       "      <td>NaN</td>\n",
       "      <td>NaN</td>\n",
       "      <td>NaN</td>\n",
       "      <td>NaN</td>\n",
       "      <td>NaN</td>\n",
       "    </tr>\n",
       "    <tr>\n",
       "      <th>2561</th>\n",
       "      <td>2562</td>\n",
       "      <td>Professional developer</td>\n",
       "      <td>No</td>\n",
       "      <td>South Korea</td>\n",
       "      <td>No</td>\n",
       "      <td>Employed full-time</td>\n",
       "      <td>Bachelor's degree</td>\n",
       "      <td>Information technology, networking, or system ...</td>\n",
       "      <td>All or almost all the time (I'm full-time remote)</td>\n",
       "      <td>Fewer than 10 employees</td>\n",
       "      <td>...</td>\n",
       "      <td>NaN</td>\n",
       "      <td>NaN</td>\n",
       "      <td>NaN</td>\n",
       "      <td>NaN</td>\n",
       "      <td>NaN</td>\n",
       "      <td>NaN</td>\n",
       "      <td>NaN</td>\n",
       "      <td>NaN</td>\n",
       "      <td>NaN</td>\n",
       "      <td>NaN</td>\n",
       "    </tr>\n",
       "    <tr>\n",
       "      <th>2569</th>\n",
       "      <td>2570</td>\n",
       "      <td>Professional developer</td>\n",
       "      <td>Yes, both</td>\n",
       "      <td>South Korea</td>\n",
       "      <td>No</td>\n",
       "      <td>Employed full-time</td>\n",
       "      <td>Some college/university study without earning ...</td>\n",
       "      <td>Computer science or software engineering</td>\n",
       "      <td>Never</td>\n",
       "      <td>20 to 99 employees</td>\n",
       "      <td>...</td>\n",
       "      <td>Strongly disagree</td>\n",
       "      <td>Male</td>\n",
       "      <td>A bachelor's degree</td>\n",
       "      <td>East Asian; White or of European descent</td>\n",
       "      <td>Strongly disagree</td>\n",
       "      <td>Agree</td>\n",
       "      <td>Strongly disagree</td>\n",
       "      <td>Strongly agree</td>\n",
       "      <td>NaN</td>\n",
       "      <td>NaN</td>\n",
       "    </tr>\n",
       "    <tr>\n",
       "      <th>2645</th>\n",
       "      <td>2646</td>\n",
       "      <td>Professional developer</td>\n",
       "      <td>No</td>\n",
       "      <td>South Korea</td>\n",
       "      <td>No</td>\n",
       "      <td>Employed full-time</td>\n",
       "      <td>Bachelor's degree</td>\n",
       "      <td>Computer science or software engineering</td>\n",
       "      <td>Never</td>\n",
       "      <td>10 to 19 employees</td>\n",
       "      <td>...</td>\n",
       "      <td>NaN</td>\n",
       "      <td>NaN</td>\n",
       "      <td>NaN</td>\n",
       "      <td>NaN</td>\n",
       "      <td>NaN</td>\n",
       "      <td>NaN</td>\n",
       "      <td>NaN</td>\n",
       "      <td>NaN</td>\n",
       "      <td>NaN</td>\n",
       "      <td>NaN</td>\n",
       "    </tr>\n",
       "  </tbody>\n",
       "</table>\n",
       "<p>5 rows × 154 columns</p>\n",
       "</div>"
      ],
      "text/plain": [
       "      Respondent            Professional               ProgramHobby  \\\n",
       "702          703                 Student  Yes, I program as a hobby   \n",
       "2161        2162                 Student  Yes, I program as a hobby   \n",
       "2561        2562  Professional developer                         No   \n",
       "2569        2570  Professional developer                  Yes, both   \n",
       "2645        2646  Professional developer                         No   \n",
       "\n",
       "          Country      University                    EmploymentStatus  \\\n",
       "702   South Korea  Yes, full-time  Not employed, but looking for work   \n",
       "2161  South Korea              No                 I prefer not to say   \n",
       "2561  South Korea              No                  Employed full-time   \n",
       "2569  South Korea              No                  Employed full-time   \n",
       "2645  South Korea              No                  Employed full-time   \n",
       "\n",
       "                                        FormalEducation  \\\n",
       "702   Some college/university study without earning ...   \n",
       "2161                          Primary/elementary school   \n",
       "2561                                  Bachelor's degree   \n",
       "2569  Some college/university study without earning ...   \n",
       "2645                                  Bachelor's degree   \n",
       "\n",
       "                                         MajorUndergrad  \\\n",
       "702            Computer science or software engineering   \n",
       "2161                                                NaN   \n",
       "2561  Information technology, networking, or system ...   \n",
       "2569           Computer science or software engineering   \n",
       "2645           Computer science or software engineering   \n",
       "\n",
       "                                             HomeRemote  \\\n",
       "702                                                 NaN   \n",
       "2161                                                NaN   \n",
       "2561  All or almost all the time (I'm full-time remote)   \n",
       "2569                                              Never   \n",
       "2645                                              Never   \n",
       "\n",
       "                  CompanySize       ...       StackOverflowMakeMoney Gender  \\\n",
       "702                       NaN       ...                     Disagree   Male   \n",
       "2161                      NaN       ...                          NaN    NaN   \n",
       "2561  Fewer than 10 employees       ...                          NaN    NaN   \n",
       "2569       20 to 99 employees       ...            Strongly disagree   Male   \n",
       "2645       10 to 19 employees       ...                          NaN    NaN   \n",
       "\n",
       "     HighestEducationParents                                      Race  \\\n",
       "702        A master's degree                                East Asian   \n",
       "2161                     NaN                                       NaN   \n",
       "2561                     NaN                                       NaN   \n",
       "2569     A bachelor's degree  East Asian; White or of European descent   \n",
       "2645                     NaN                                       NaN   \n",
       "\n",
       "             SurveyLong QuestionsInteresting QuestionsConfusing  \\\n",
       "702      Strongly agree       Somewhat agree           Disagree   \n",
       "2161                NaN                  NaN                NaN   \n",
       "2561                NaN                  NaN                NaN   \n",
       "2569  Strongly disagree                Agree  Strongly disagree   \n",
       "2645                NaN                  NaN                NaN   \n",
       "\n",
       "     InterestedAnswers  Salary  ExpectedSalary  \n",
       "702              Agree     NaN        30.52157  \n",
       "2161               NaN     NaN             NaN  \n",
       "2561               NaN     NaN             NaN  \n",
       "2569    Strongly agree     NaN             NaN  \n",
       "2645               NaN     NaN             NaN  \n",
       "\n",
       "[5 rows x 154 columns]"
      ]
     },
     "execution_count": 13,
     "metadata": {},
     "output_type": "execute_result"
    }
   ],
   "source": [
    "korea.head()"
   ]
  },
  {
   "cell_type": "code",
   "execution_count": null,
   "metadata": {},
   "outputs": [],
   "source": []
  }
 ],
 "metadata": {
  "kernelspec": {
   "display_name": "Python 3",
   "language": "python",
   "name": "python3"
  },
  "language_info": {
   "codemirror_mode": {
    "name": "ipython",
    "version": 3
   },
   "file_extension": ".py",
   "mimetype": "text/x-python",
   "name": "python",
   "nbconvert_exporter": "python",
   "pygments_lexer": "ipython3",
   "version": "3.6.1"
  }
 },
 "nbformat": 4,
 "nbformat_minor": 2
}
